{
 "cells": [
  {
   "metadata": {},
   "cell_type": "markdown",
   "source": [
    "# Algoritmos de ordenação\n",
    "\n",
    "Dado uma sequência (desorganizada) retornar uma permutação na qual os elementos da sequência atendam um critério (crescente ou decrescente).\n",
    "\n",
    "Algoritmos de ordenação poder ser criados pensando em comparação, isto é, compara um elemento da sequência com os demais a fim de encontrar seu lugar. Ou, sem comparação, utilizando outras técnicas como contar a ocorrência de um termo na sequência. \n"
   ],
   "id": "170df1f1c5a7c807"
  },
  {
   "metadata": {
    "ExecuteTime": {
     "end_time": "2024-11-05T01:24:37.795104Z",
     "start_time": "2024-11-05T01:24:37.725801Z"
    }
   },
   "cell_type": "code",
   "source": [
    "from random import randint\n",
    "\n",
    "\n",
    "para_ordernar = [[randint(0, 100) for _ in range(8)] \n",
    "                                 for _ in range(5)] # cria 10 listas com 10 elementos aleatórios entre 0 e 99 \n",
    "\n",
    "for i in para_ordernar:\n",
    "    print(i)"
   ],
   "id": "696ba7aa94a819c6",
   "outputs": [
    {
     "name": "stdout",
     "output_type": "stream",
     "text": [
      "[44, 12, 28, 24, 23, 10, 43, 19]\n",
      "[87, 34, 89, 52, 84, 97, 51, 61]\n",
      "[80, 50, 93, 31, 27, 1, 91, 100]\n",
      "[48, 64, 40, 52, 95, 70, 33, 6]\n",
      "[69, 98, 35, 5, 96, 71, 98, 73]\n"
     ]
    }
   ],
   "execution_count": 37
  },
  {
   "metadata": {},
   "cell_type": "markdown",
   "source": [
    "## Algoritmos de ordenação Quadráticos $O(n^2)$\n",
    "Os algoritmos de ordenação de ordem quadrática realizam comparações na ordem $O(n^2)$ no caso médio. Contudo, podem ser mais rápidos em alguns casos. Veremos 3 algoritmos de ordenação desta ordem:\n",
    "\n",
    "1. Selection Sort\n",
    "2. Bubble Sort\n",
    "3. Insertion Sort\n"
   ],
   "id": "235a4d92b3ce8d88"
  },
  {
   "metadata": {},
   "cell_type": "markdown",
   "source": "### Selection sort",
   "id": "da62ac1560e1aa43"
  },
  {
   "metadata": {
    "ExecuteTime": {
     "end_time": "2024-11-05T01:24:38.191142Z",
     "start_time": "2024-11-05T01:24:38.126476Z"
    }
   },
   "cell_type": "code",
   "source": [
    "def selection_sort_iterativo(vetor):\n",
    "    for i in range(len(vetor)):\n",
    "        indice_menor = i\n",
    "        \n",
    "        for j in range(i + 1, len(vetor)):\n",
    "            if vetor[j] < vetor[indice_menor]:\n",
    "                indice_menor = j\n",
    "\n",
    "        vetor[i], vetor[indice_menor] = vetor[indice_menor], vetor[i]\n",
    "    return vetor\n",
    "    \n",
    "\n",
    "def selection_sort_recursivo(vetor, indice_inicial=0):\n",
    "    if indice_inicial >= len(vetor) - 1:\n",
    "        return vetor\n",
    "\n",
    "    indice_menor = indice_inicial\n",
    "    for i in range(indice_inicial + 1, len(vetor)):\n",
    "        if vetor[i] < vetor[indice_menor]:\n",
    "            indice_menor = i\n",
    "            \n",
    "    vetor[indice_inicial], vetor[indice_menor] = vetor[indice_menor], vetor[indice_inicial]\n",
    "\n",
    "    return selection_sort_recursivo(vetor, indice_inicial + 1)\n"
   ],
   "id": "a46e42a87e200e0c",
   "outputs": [],
   "execution_count": 38
  },
  {
   "metadata": {},
   "cell_type": "markdown",
   "source": "### Bubble sort",
   "id": "281f0c5530392444"
  },
  {
   "metadata": {
    "ExecuteTime": {
     "end_time": "2024-11-05T01:24:38.270644Z",
     "start_time": "2024-11-05T01:24:38.240826Z"
    }
   },
   "cell_type": "code",
   "source": [
    "def bubble_sort(vetor):\n",
    "    for i in range(len(vetor)):\n",
    "        for j in range(0, len(vetor) - i - 1):\n",
    "            if vetor[j] > vetor[j + 1]:\n",
    "                vetor[j], vetor[j + 1] = vetor[j + 1], vetor[j]\n",
    "\n",
    "    return vetor"
   ],
   "id": "c3c19d7af9d31632",
   "outputs": [],
   "execution_count": 39
  },
  {
   "metadata": {},
   "cell_type": "markdown",
   "source": "### Insertion sort",
   "id": "82faa3634aedd54e"
  },
  {
   "metadata": {
    "ExecuteTime": {
     "end_time": "2024-11-05T01:24:38.489600Z",
     "start_time": "2024-11-05T01:24:38.473775Z"
    }
   },
   "cell_type": "code",
   "source": [
    "def insertion_sort(vetor):\n",
    "    for i in range(1, len(vetor)):\n",
    "        elemento = vetor[i]\n",
    "        j = i - 1\n",
    "        while j >= 0 and vetor[j] > elemento:\n",
    "            vetor[j + 1] = vetor[j]\n",
    "            j -= 1\n",
    "        vetor[j + 1] = elemento\n",
    "\n",
    "    return vetor\n"
   ],
   "id": "3e0a78818f40d7fc",
   "outputs": [],
   "execution_count": 40
  },
  {
   "metadata": {},
   "cell_type": "markdown",
   "source": "#### Testes algoritmo iterativo",
   "id": "f35f4b85e5b9a84a"
  },
  {
   "metadata": {
    "ExecuteTime": {
     "end_time": "2024-11-05T01:25:02.264621Z",
     "start_time": "2024-11-05T01:25:02.248372Z"
    }
   },
   "cell_type": "code",
   "source": [
    "for i in range(len(para_ordernar)):\n",
    "    print(f'Insertion Sort ==> {insertion_sort(para_ordernar[i].copy())}')\n",
    "    print(f'Bubble Sort    ==> {bubble_sort(para_ordernar[i].copy())}')\n",
    "    print(f'Selection Sort ==> {selection_sort_iterativo(para_ordernar[i].copy())}')"
   ],
   "id": "bc0c5f3839bebce5",
   "outputs": [
    {
     "name": "stdout",
     "output_type": "stream",
     "text": [
      "Insertion Sort ==> [10, 12, 19, 23, 24, 28, 43, 44]\n",
      "Bubble Sort    ==> [10, 12, 19, 23, 24, 28, 43, 44]\n",
      "Selection Sort ==> [10, 12, 19, 23, 24, 28, 43, 44]\n",
      "Insertion Sort ==> [34, 51, 52, 61, 84, 87, 89, 97]\n",
      "Bubble Sort    ==> [34, 51, 52, 61, 84, 87, 89, 97]\n",
      "Selection Sort ==> [34, 51, 52, 61, 84, 87, 89, 97]\n",
      "Insertion Sort ==> [1, 27, 31, 50, 80, 91, 93, 100]\n",
      "Bubble Sort    ==> [1, 27, 31, 50, 80, 91, 93, 100]\n",
      "Selection Sort ==> [1, 27, 31, 50, 80, 91, 93, 100]\n",
      "Insertion Sort ==> [6, 33, 40, 48, 52, 64, 70, 95]\n",
      "Bubble Sort    ==> [6, 33, 40, 48, 52, 64, 70, 95]\n",
      "Selection Sort ==> [6, 33, 40, 48, 52, 64, 70, 95]\n",
      "Insertion Sort ==> [5, 35, 69, 71, 73, 96, 98, 98]\n",
      "Bubble Sort    ==> [5, 35, 69, 71, 73, 96, 98, 98]\n",
      "Selection Sort ==> [5, 35, 69, 71, 73, 96, 98, 98]\n"
     ]
    }
   ],
   "execution_count": 47
  },
  {
   "metadata": {},
   "cell_type": "markdown",
   "source": "#### Testes algoritmo recursivo",
   "id": "7771f3b4968397d4"
  },
  {
   "metadata": {
    "ExecuteTime": {
     "end_time": "2024-11-05T01:25:08.360415Z",
     "start_time": "2024-11-05T01:25:08.349211Z"
    }
   },
   "cell_type": "code",
   "source": [
    "for i in range(len(para_ordernar)):\n",
    "    print(f'Selection Sort ==> {selection_sort_recursivo(para_ordernar[i].copy())}')"
   ],
   "id": "6fab9b51f5d109fc",
   "outputs": [
    {
     "name": "stdout",
     "output_type": "stream",
     "text": [
      "Selection Sort ==> [10, 12, 19, 23, 24, 28, 43, 44]\n",
      "Selection Sort ==> [34, 51, 52, 61, 84, 87, 89, 97]\n",
      "Selection Sort ==> [1, 27, 31, 50, 80, 91, 93, 100]\n",
      "Selection Sort ==> [6, 33, 40, 48, 52, 64, 70, 95]\n",
      "Selection Sort ==> [5, 35, 69, 71, 73, 96, 98, 98]\n"
     ]
    }
   ],
   "execution_count": 48
  },
  {
   "metadata": {},
   "cell_type": "markdown",
   "source": "## Algoritmos de ordenação Linear-Logarítmicos (Linearithmic) $O(n log n)$",
   "id": "462fa681cd515621"
  },
  {
   "metadata": {},
   "cell_type": "markdown",
   "source": "### Merge sort\n",
   "id": "7cf3a76b7fe8f396"
  },
  {
   "metadata": {
    "ExecuteTime": {
     "end_time": "2024-11-05T01:24:38.891339Z",
     "start_time": "2024-11-05T01:24:38.857485Z"
    }
   },
   "cell_type": "code",
   "source": [
    "def merge_sort(vetor):\n",
    "    if len(vetor) <= 1: # Theta(1)\n",
    "        return vetor\n",
    "    meio_vetor = len(vetor) // 2 # Theta(1)\n",
    "    esquerda = merge_sort(vetor[:meio_vetor]) # Theta(n/2)\n",
    "    direita = merge_sort(vetor[meio_vetor:]) # Theta(n/2)\n",
    "\n",
    "    return merge(esquerda, direita) # Theta(n)\n",
    "\n",
    "\n",
    "def merge(vetor_esquerda, vetor_direita):\n",
    "    merged = []\n",
    "    i = j = 0\n",
    "\n",
    "    while i < len(vetor_esquerda) and j < len(vetor_direita):\n",
    "        if vetor_esquerda[i] < vetor_direita[j]:\n",
    "            merged.append(vetor_esquerda[i])\n",
    "            i += 1\n",
    "        else:\n",
    "            merged.append(vetor_direita[j])\n",
    "            j += 1\n",
    "\n",
    "    # adiciona o restante\n",
    "    merged.extend(vetor_esquerda[i:])\n",
    "    merged.extend(vetor_direita[j:])\n",
    "\n",
    "    return merged"
   ],
   "id": "28abde776228d10c",
   "outputs": [],
   "execution_count": 43
  },
  {
   "metadata": {},
   "cell_type": "markdown",
   "source": [
    "### Quicksort\n",
    "\n",
    "O Quicksort pode ser quadrático, isto é $O(N^2)$ no pior caso. Contudo, em seu caso médio, o valor é $O(nlogN)$.\n",
    "\n",
    "O pior caso do Quicksort pode ser alcançado quando há uma escolha ruim do pivô, ou então quando o vetor já se encontra ordenado (ou praticamente ordenado).\n",
    "\n",
    "A escolha de um pivô aleatório, ajuda a mitigar as divisões muito desbalanceadas. Assim, caso uma etapa tenha uma divisão desbalanceada, ela pode ser compensada na etapa seguinte.\n"
   ],
   "id": "55a472f0a79c8645"
  },
  {
   "metadata": {
    "ExecuteTime": {
     "end_time": "2024-11-05T01:24:39.046216Z",
     "start_time": "2024-11-05T01:24:39.031859Z"
    }
   },
   "cell_type": "code",
   "source": [
    "def quick_sort(vetor):\n",
    "    if len(vetor) <= 1: \n",
    "        return vetor\n",
    "\n",
    "    pivot = vetor[randint(0, len(vetor) - 1)] # pivô escolhido aleatoriamente a cada camada recursão\n",
    "    \n",
    "    left = [x for x in vetor if x < pivot] \n",
    "    middle = [x for x in vetor if x == pivot] \n",
    "    right = [x for x in vetor if x > pivot] \n",
    "    \n",
    "    return quick_sort(left) + middle + quick_sort(right) "
   ],
   "id": "9e51d3ebb23db6bf",
   "outputs": [],
   "execution_count": 44
  },
  {
   "metadata": {},
   "cell_type": "markdown",
   "source": [
    "### Heap sort\n",
    "\n",
    "O heap sort utiliza uma estutura de dados Heap para auxiliar na ordenação. Podemos construir o heap a partir do vetor e ir ordenando a partir do valor máximo da heap"
   ],
   "id": "359700d04abd5020"
  },
  {
   "metadata": {
    "ExecuteTime": {
     "end_time": "2024-11-05T01:24:39.159365Z",
     "start_time": "2024-11-05T01:24:39.141076Z"
    }
   },
   "cell_type": "code",
   "source": [
    "def heapify(vetor, tamanho_vetor, indice_atual):\n",
    "    maior = indice_atual\n",
    "    esquerda = 2 * indice_atual + 1\n",
    "    direita = 2 * indice_atual + 2\n",
    "\n",
    "    if esquerda < tamanho_vetor and vetor[esquerda] > vetor[maior]:\n",
    "        maior = esquerda\n",
    "\n",
    "    if direita < tamanho_vetor and vetor[direita] > vetor[maior]:\n",
    "        maior = direita\n",
    "\n",
    "    if maior != indice_atual:\n",
    "        vetor[indice_atual], vetor[maior] = vetor[maior], vetor[indice_atual]\n",
    "        heapify(vetor, tamanho_vetor, maior)\n",
    "\n",
    "def heap_sort(vetor):\n",
    "    tamanho_vetor = len(vetor)\n",
    "\n",
    "    for i in range(tamanho_vetor // 2 - 1, -1, -1):\n",
    "        heapify(vetor, tamanho_vetor, i)\n",
    "\n",
    "    for i in range(tamanho_vetor - 1, 0, -1):\n",
    "        vetor[i], vetor[0] = vetor[0], vetor[i]\n",
    "        heapify(vetor, i, 0)\n",
    "\n",
    "    return vetor\n"
   ],
   "id": "b41b3da8858d7a15",
   "outputs": [],
   "execution_count": 45
  },
  {
   "metadata": {},
   "cell_type": "markdown",
   "source": "#### Testes",
   "id": "f46523330c0462c3"
  },
  {
   "metadata": {
    "ExecuteTime": {
     "end_time": "2024-11-05T01:24:39.222695Z",
     "start_time": "2024-11-05T01:24:39.206066Z"
    }
   },
   "cell_type": "code",
   "source": [
    "for i in range(len(para_ordernar)):\n",
    "    print(f'Merge Sort ==> {merge_sort(para_ordernar[i].copy())}')\n",
    "    print(f'QuickSort  ==> {quick_sort(para_ordernar[i].copy())}')\n",
    "    print(f'Heap Sort  ==> {heap_sort(para_ordernar[i].copy())}')"
   ],
   "id": "71d28f4e28e9c2ca",
   "outputs": [
    {
     "name": "stdout",
     "output_type": "stream",
     "text": [
      "Merge Sort ==> [10, 12, 19, 23, 24, 28, 43, 44]\n",
      "QuickSort  ==> [10, 12, 19, 23, 24, 28, 43, 44]\n",
      "Heap Sort  ==> [10, 12, 19, 23, 24, 28, 43, 44]\n",
      "Merge Sort ==> [34, 51, 52, 61, 84, 87, 89, 97]\n",
      "QuickSort  ==> [34, 51, 52, 61, 84, 87, 89, 97]\n",
      "Heap Sort  ==> [34, 51, 52, 61, 84, 87, 89, 97]\n",
      "Merge Sort ==> [1, 27, 31, 50, 80, 91, 93, 100]\n",
      "QuickSort  ==> [1, 27, 31, 50, 80, 91, 93, 100]\n",
      "Heap Sort  ==> [1, 27, 31, 50, 80, 91, 93, 100]\n",
      "Merge Sort ==> [6, 33, 40, 48, 52, 64, 70, 95]\n",
      "QuickSort  ==> [6, 33, 40, 48, 52, 64, 70, 95]\n",
      "Heap Sort  ==> [6, 33, 40, 48, 52, 64, 70, 95]\n",
      "Merge Sort ==> [5, 35, 69, 71, 73, 96, 98, 98]\n",
      "QuickSort  ==> [5, 35, 69, 71, 73, 96, 98, 98]\n",
      "Heap Sort  ==> [5, 35, 69, 71, 73, 96, 98, 98]\n"
     ]
    }
   ],
   "execution_count": 46
  },
  {
   "metadata": {
    "ExecuteTime": {
     "end_time": "2024-11-05T01:24:39.323135Z",
     "start_time": "2024-11-05T01:24:39.312180Z"
    }
   },
   "cell_type": "code",
   "source": "",
   "id": "a3476f02b1b942d9",
   "outputs": [],
   "execution_count": null
  }
 ],
 "metadata": {
  "kernelspec": {
   "display_name": "Python 3",
   "language": "python",
   "name": "python3"
  },
  "language_info": {
   "codemirror_mode": {
    "name": "ipython",
    "version": 2
   },
   "file_extension": ".py",
   "mimetype": "text/x-python",
   "name": "python",
   "nbconvert_exporter": "python",
   "pygments_lexer": "ipython2",
   "version": "2.7.6"
  }
 },
 "nbformat": 4,
 "nbformat_minor": 5
}
