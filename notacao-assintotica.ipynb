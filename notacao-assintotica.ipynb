{
 "cells": [
  {
   "metadata": {},
   "cell_type": "markdown",
   "source": [
    "# Notação Assintótica\n",
    "\n",
    "Notação assintótica é uma **abstração** que nos permite focar no que ocorre com uma função $f(n)$ quando $n$ cresce indefinidamente.\n",
    "\n",
    "Para isso, podemos abstrair as seguintes coisas:\n",
    "* Termos de menor ordem\n",
    "* Constantes \n",
    "\n",
    "Vamos ver três notações básicas:\n",
    "* Limite superior (tem o sabor de $\\leq$), ou Grande O: $O(n)$\n",
    "* Limite \"justo\" (tem o sabor de igualdade), ou Theta: $\\Theta(n)$\n",
    "* Limite inferior (tem o sabor de $\\geq$), ou Omega: $\\Omega(n)$\n",
    "\n",
    "\n",
    "Por exemplo, peguemos a seguinte função e vamos falar seu limite superior:\n",
    "\n",
    "$$\n",
    "f(n) = x^2 - 5x + 6 \n",
    "$$\n",
    "\n",
    "Podemos remover a constante `6` e o termo de menor grau, `5x`. Dessa forma, falamos que $f(n) = O(n)$ ou $f(n)$ é $O(n)$\n",
    "\n",
    "\n",
    "#### Referências:\n",
    "1. Clara Quem disse - Notação assintótica (O)  <https://youtu.be/gjw7AaOs9P8?si=8nwmc-j5eDkGQcpJ>\n",
    "2. Clara Quem disse - Notação assintótica (Ω e Θ) <https://youtu.be/t0MhdT7Z-_U?si=pCxBBeIELCD1wV3K>"
   ],
   "id": "d449251e65b9725f"
  },
  {
   "metadata": {},
   "cell_type": "markdown",
   "source": [
    "## Notação Grande O\n",
    "\n",
    "A notação grande O é a notação que abstrai a definição de um limite superior de uma função $f(n)$.\n",
    "\n",
    "Podemos falar que $f(n)$ é $O(n)$ se existirem constantes positivas $c$ e $n_0$ tais que $f(n) \\leq c*g(n)$ $\\forall$ $n \\geq n_0$.\n",
    "\n",
    "Isto é, $f(n)$ é $O(g(n))$ quando: $$f(n): \\exists \\textrm{ } c > 0, n_0 > 0 \\mid 0 \\leq f(n) \\leq cg(n), \\textrm{ para todo n}  \\geq n_0$$"
   ],
   "id": "abacb4a171a9d2b5"
  },
  {
   "metadata": {},
   "cell_type": "markdown",
   "source": [
    "## Notação Omega $\\Omega$\n",
    "\n",
    "A notação Omega é a notação que abstrai a definição de um limite inferior de uma função $f(n)$.\n",
    "\n",
    "Podemos falar que $f(n)$ é $\\Omega(n)$ se existirem constantes positivas $c$ e $n_0$ tais que $f(n) \\geq c*g(n)$ $\\forall$ $n \\geq n_0$.\n",
    "\n",
    "Isto é, $f(n)$ é $\\Omega(g(n))$ quando: $$f(n): \\exists \\textrm{ } c > 0, n_0 > 0 \\mid 0 \\leq cg(n) \\leq f(n), \\textrm{ para todo n}  \\geq n_0$$"
   ],
   "id": "8bf9dfbdcb018293"
  },
  {
   "metadata": {},
   "cell_type": "markdown",
   "source": [
    "## Notação Theta $\\Theta$\n",
    "\n",
    "A notação Theta é a notação que abstrai a definição de igualdade de uma função $f(n)$.\n",
    "\n",
    "Podemos falar que $f(n)$ é $\\Theta(n)$ se existirem constantes positivas $c_1$; $c_2$ e $n_0$ tais que $c_1*g(n) \\leq f(n) \\geq c_2*g(n)$ $\\forall$ $n \\geq n_0$.\n",
    "\n",
    "Isto é, $f(n)$ é $\\Theta(g(n))$ quando: $$f(n): \\exists \\textrm{ } c_1 > 0, c_2 > 0, n_0 > 0 \\mid 0 \\leq c_1g(n) \\leq f(n) \\leq c_2g(n), \\textrm{ para todo n}  \\geq n_0$$\n",
    "\n",
    "> Obs: Uma função só é $\\Theta(g(n))$ quando ela também é $\\Omega(g(n))$ e $O(g(n))$"
   ],
   "id": "c170803ff67baefa"
  }
 ],
 "metadata": {
  "kernelspec": {
   "display_name": "Python 3",
   "language": "python",
   "name": "python3"
  },
  "language_info": {
   "codemirror_mode": {
    "name": "ipython",
    "version": 2
   },
   "file_extension": ".py",
   "mimetype": "text/x-python",
   "name": "python",
   "nbconvert_exporter": "python",
   "pygments_lexer": "ipython2",
   "version": "2.7.6"
  }
 },
 "nbformat": 4,
 "nbformat_minor": 5
}
