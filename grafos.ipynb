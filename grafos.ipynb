{
 "cells": [
  {
   "metadata": {},
   "cell_type": "markdown",
   "source": [
    " # Grafos\n",
    " \n",
    "Um grafo é uma estrutura de dados capaz de representar relações entre objetos. Estes objetos são relacionados por meio de arestas. Essas arestas podem ser direcionadas, como uma rede social no qual uma pessoa segue outra, mas pode não ser seguida de volta, bem como bi-direcionadas. Neste caso, seria algo como se uma pessoa segue outra, esta, por definição, seguirá a pessoa de volta.\n",
    "\n",
    "Podemos representar grafos da seguinte forma. No exemplo, usarei algumas linhas do Metro de São paulo como exemplo.\n",
    "\n",
    "$$\n",
    "\\begin{grafo-metro}\n",
    "\n",
    "\\end{grafo-metro}\n",
    "$$\n",
    "\n",
    "\n",
    "No caso de código, podemos representar grafo de diversas formas. Aqui mostrarei 3:\n",
    "1. Matriz de adjacências\n",
    "2. Lista de adjacências\n",
    "3. Classes com Orientação a Objetos\n",
    "\n",
    "Trabalharemos primeiro com grafos bi-direcioanis, grafos unidirecionais e , "
   ],
   "id": "778e829790c9321b"
  },
  {
   "metadata": {},
   "cell_type": "markdown",
   "source": "## Matriz de adjacências",
   "id": "c2ea3ea99a2d0463"
  },
  {
   "cell_type": "code",
   "execution_count": null,
   "id": "initial_id",
   "metadata": {
    "collapsed": true
   },
   "outputs": [],
   "source": [
    "linha_vermelha = [\n",
    "    [0, 1, 0, 0, 0, 0, 0, 0],\n",
    "    [1, 0, 1, 0, 0, 0, 0, 0],\n",
    "    [0, 1, 0, 1, 0, 0, 0, 0],\n",
    "    [0, 0, 1, 0, 1, 0, 0, 0],\n",
    "    [0, 0, 0, 1, 0, 1, 0, 0],\n",
    "    [0, 0, 0, 0, 1, 0, 1, 0],\n",
    "    [0, 0, 0, 0, 0, 1, 0, 1],\n",
    "    [0, 0, 0, 0, 0, 0, 1, 0],\n",
    "]"
   ]
  }
 ],
 "metadata": {
  "kernelspec": {
   "display_name": "Python 3",
   "language": "python",
   "name": "python3"
  },
  "language_info": {
   "codemirror_mode": {
    "name": "ipython",
    "version": 2
   },
   "file_extension": ".py",
   "mimetype": "text/x-python",
   "name": "python",
   "nbconvert_exporter": "python",
   "pygments_lexer": "ipython2",
   "version": "2.7.6"
  }
 },
 "nbformat": 4,
 "nbformat_minor": 5
}
