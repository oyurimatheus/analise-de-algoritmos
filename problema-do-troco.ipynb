{
 "cells": [
  {
   "metadata": {},
   "cell_type": "markdown",
   "source": [
    "# Problema do troco\n",
    "\n",
    "Exemplo de problema do troco usando diferente meios de programação.\n",
    "\n",
    "## Explicando o problema\n",
    "Dado um valor X e um conjunto de possíveis notas, encontre a solução que otimize a quantidade de notas distribuidas.\n",
    "\n",
    "Exemplos:\n",
    "1. Valor 70.0 e notas 50; 5; 2\n",
    "O algoritmo deve retornar:\n",
    "50.0; 5; 5; 5; 5.\n",
    "2. Valor 30.0 e notas 20; 10; 5; 2\n",
    "O algoritmo deve retornar:\n",
    "20; 10\n",
    "3. Valor 75.0 e notas 50; 20; 10; 5; 2\n",
    "O algoritmo deve retornar:\n",
    "50; 20; 5\n",
    "4. Valor 49.0 e notas 50; 20; 10; 5; 2\n",
    "O algoritmo deve retornar:\n",
    "20; 20; 5; 2;"
   ],
   "id": "b9050944f9effee5"
  },
  {
   "metadata": {
    "ExecuteTime": {
     "end_time": "2024-10-12T21:10:51.144518Z",
     "start_time": "2024-10-12T21:10:51.095418Z"
    }
   },
   "cell_type": "code",
   "source": [
    "valores = [70, 30, 75, 49, 6, 80]\n",
    "notas = [(50, 5, 2),\n",
    "         (20, 10, 5, 2),\n",
    "         (50, 20, 10, 5, 2),\n",
    "         (50, 20, 10, 5, 2),\n",
    "         (4, 3, 1),\n",
    "         (50, 20)]"
   ],
   "id": "ecba8c0a3624b6f4",
   "outputs": [],
   "execution_count": 41
  },
  {
   "metadata": {},
   "cell_type": "markdown",
   "source": [
    "## Algoritmo guloso\n",
    "\n",
    "> demorou < 10ms em minha máquina\n",
    "> \n",
    "> Macbook pro i5 8GB Ram\n",
    "\n",
    "O Algoritmo guloso se caracteriza pela escolha do melhor local. Isto é, ele parte da premissa (heurística) que se a escolha de um máximo local for feita, ao final, podemos ter o máximo global.\n",
    "\n",
    "\n",
    "Ele é \"guloso\" justamente por olhar apenas para o máximo local na esperança de alcançar o máximo global. Em geral, essa abordagem é mais rápida que um algoritmo de tentativa e erro"
   ],
   "id": "67564a4ad418a93"
  },
  {
   "metadata": {
    "collapsed": true,
    "ExecuteTime": {
     "end_time": "2024-10-12T21:10:51.233808Z",
     "start_time": "2024-10-12T21:10:51.205876Z"
    }
   },
   "cell_type": "code",
   "source": [
    "def calcula_troco(valor, notas):\n",
    "    troco = []\n",
    "    \n",
    "    for i in range(len(notas)):\n",
    "        while valor >= notas[i]:         \n",
    "            valor -= notas[i]\n",
    "            troco.append(notas[i])\n",
    "    \n",
    "    return troco\n",
    "\n",
    "for i in range(len(valores)):\n",
    "    troco = calcula_troco(valores[i], notas[i])\n",
    "    print(f'troco para {valores[i]} - notas: {notas[i]} - Troco: {troco} ')"
   ],
   "id": "initial_id",
   "outputs": [
    {
     "name": "stdout",
     "output_type": "stream",
     "text": [
      "troco para 70 - notas: (50, 5, 2) - Troco: [50, 5, 5, 5, 5] \n",
      "troco para 30 - notas: (20, 10, 5, 2) - Troco: [20, 10] \n",
      "troco para 75 - notas: (50, 20, 10, 5, 2) - Troco: [50, 20, 5] \n",
      "troco para 49 - notas: (50, 20, 10, 5, 2) - Troco: [20, 20, 5, 2, 2] \n",
      "troco para 6 - notas: (4, 3, 1) - Troco: [4, 1, 1] \n",
      "troco para 80 - notas: (50, 20) - Troco: [50, 20] \n"
     ]
    }
   ],
   "execution_count": 42
  },
  {
   "metadata": {},
   "cell_type": "markdown",
   "source": [
    "## Backtracking (Tentativa e erro)\n",
    "\n",
    "> demorou 1m26s em minha máquina\n",
    "> \n",
    "> Macbook pro i5 8GB Ram\n",
    "\n",
    "O Algoritmo de tentativa e erro testa diversar formas de resolver o problema e escolhe aquela que melhor resolve dado determinado contexto. Neste caso, o menor número de notas.\n",
    "\n",
    "\n",
    "Ele varre toda a árvore de soluções e, por isso, garante a solução global ótima (máximo global), contudo, o tempo para rodar o algoritmo é exponencial, já que todas as possibilidades de solução são testadas"
   ],
   "id": "9dd77ad08ec91d35"
  },
  {
   "metadata": {
    "ExecuteTime": {
     "end_time": "2024-10-12T21:12:18.660877Z",
     "start_time": "2024-10-12T21:10:51.378300Z"
    }
   },
   "cell_type": "code",
   "source": [
    "def calcula_troco(valor, notas):\n",
    "    if valor == 0:\n",
    "        return []\n",
    "\n",
    "    melhor_solucao = None\n",
    "    possivel_nota = -1\n",
    "\n",
    "    for i in range(len(notas)):\n",
    "        if (valor - notas[i]) >= 0:\n",
    "            solucao = calcula_troco(valor - notas[i], notas)\n",
    "\n",
    "            if melhor_solucao is None or len(solucao) < len(melhor_solucao):\n",
    "                melhor_solucao = solucao\n",
    "                possivel_nota = notas[i]\n",
    "\n",
    "    if melhor_solucao is not None:\n",
    "        melhor_solucao.append(possivel_nota)\n",
    "\n",
    "    return melhor_solucao if melhor_solucao is not None else []\n",
    "\n",
    "\n",
    "for i in range(len(valores)):\n",
    "    troco = calcula_troco(valores[i], notas[i])\n",
    "    print(f'troco para {valores[i]} - notas: {notas[i]} - Troco: {troco} ')"
   ],
   "id": "cad59fe22d7e4760",
   "outputs": [
    {
     "name": "stdout",
     "output_type": "stream",
     "text": [
      "troco para 70 - notas: (50, 5, 2) - Troco: [5, 5, 5, 5, 50] \n",
      "troco para 30 - notas: (20, 10, 5, 2) - Troco: [10, 20] \n",
      "troco para 75 - notas: (50, 20, 10, 5, 2) - Troco: [5, 20, 50] \n",
      "troco para 49 - notas: (50, 20, 10, 5, 2) - Troco: [2, 2, 5, 20, 20] \n",
      "troco para 6 - notas: (4, 3, 1) - Troco: [3, 3] \n",
      "troco para 80 - notas: (50, 20) - Troco: [20, 50] \n"
     ]
    }
   ],
   "execution_count": 43
  },
  {
   "metadata": {},
   "cell_type": "markdown",
   "source": [
    "## Programação dinâmica\n",
    "> \n",
    "> demorou 1m26s em minha máquina\n",
    "> \n",
    "> Macbook pro i5 8GB Ram\n",
    "\n",
    "\n",
    "Em Programação Dinâmica, os problemas são quebrados em problemas menores e resolvidos recursivamente. Esses subproblemas se repetem e se sobrepõe e, além disso, devem possuir uma subestrutura ótima. Isto é, uma solução parcial pode ser usada para construir a solução do todo.\n",
    "\n",
    "Para garantir uma melhor execução do algoritmo, salvamos os resultados dos subproblemas em uma tabela repassada para as próximas execuções da recursão. Dessa forma, evita-se calcular valores já calculados. Essa técnica é conhecida como memoização (memoization).\n"
   ],
   "id": "16e7e322a102ac2a"
  },
  {
   "metadata": {
    "ExecuteTime": {
     "end_time": "2024-10-12T21:12:18.774683Z",
     "start_time": "2024-10-12T21:12:18.697287Z"
    }
   },
   "cell_type": "code",
   "source": [
    "def calcula_troco(valor, notas, ja_calculado=None):\n",
    "    if ja_calculado is None:\n",
    "        ja_calculado = dict()\n",
    "\n",
    "    if valor == 0:\n",
    "        return []\n",
    "    \n",
    "    if valor in ja_calculado:\n",
    "        return ja_calculado[valor]\n",
    "        \n",
    "\n",
    "    melhor_solucao = None\n",
    "    possivel_nota = -1\n",
    "\n",
    "    for i in range(len(notas)):\n",
    "        if (valor - notas[i]) >= 0:\n",
    "            solucao = calcula_troco(valor - notas[i], notas, ja_calculado)\n",
    "            \n",
    "            ja_calculado[valor] = solucao\n",
    "\n",
    "            if melhor_solucao is None or len(solucao) < len(melhor_solucao):\n",
    "                melhor_solucao = solucao\n",
    "                possivel_nota = notas[i]\n",
    "\n",
    "    \n",
    "    if melhor_solucao is not None:\n",
    "        melhor_solucao.append(possivel_nota)\n",
    "        \n",
    "    return melhor_solucao if melhor_solucao is not None else []\n",
    "    \n",
    "    \n",
    "\n",
    "for i in range(len(valores)):\n",
    "    troco = calcula_troco(valores[i], notas[i])\n",
    "    print(f'troco para {valores[i]} - notas: {notas[i]} - Troco: {troco} ')"
   ],
   "id": "bc64a464e665132a",
   "outputs": [
    {
     "name": "stdout",
     "output_type": "stream",
     "text": [
      "troco para 70 - notas: (50, 5, 2) - Troco: [5, 5, 5, 5, 50] \n",
      "troco para 30 - notas: (20, 10, 5, 2) - Troco: [10, 20] \n",
      "troco para 75 - notas: (50, 20, 10, 5, 2) - Troco: [5, 20, 50] \n",
      "troco para 49 - notas: (50, 20, 10, 5, 2) - Troco: [5, 5, 10, 20, 10, 20, 2] \n",
      "troco para 6 - notas: (4, 3, 1) - Troco: [3, 3] \n",
      "troco para 80 - notas: (50, 20) - Troco: [20, 50] \n"
     ]
    }
   ],
   "execution_count": 44
  }
 ],
 "metadata": {
  "kernelspec": {
   "display_name": "Python 3",
   "language": "python",
   "name": "python3"
  },
  "language_info": {
   "codemirror_mode": {
    "name": "ipython",
    "version": 2
   },
   "file_extension": ".py",
   "mimetype": "text/x-python",
   "name": "python",
   "nbconvert_exporter": "python",
   "pygments_lexer": "ipython2",
   "version": "2.7.6"
  }
 },
 "nbformat": 4,
 "nbformat_minor": 5
}
