{
 "cells": [
  {
   "metadata": {
    "ExecuteTime": {
     "end_time": "2024-11-30T15:42:25.106063Z",
     "start_time": "2024-11-30T15:42:25.096820Z"
    }
   },
   "cell_type": "code",
   "source": "from codigos.estrutura_dados import ListaLigada, ListaVetor",
   "id": "2653dba9779f1827",
   "outputs": [],
   "execution_count": 2
  },
  {
   "cell_type": "code",
   "id": "initial_id",
   "metadata": {
    "collapsed": true,
    "ExecuteTime": {
     "end_time": "2024-11-30T15:35:00.630153Z",
     "start_time": "2024-11-30T15:35:00.617199Z"
    }
   },
   "source": [
    "vetor = ListaVetor()\n",
    "vetor.adicionar(1)\n",
    "vetor.adicionar(3)\n",
    "vetor.adicionar(5)\n",
    "vetor.adicionar(7)\n",
    "\n",
    "print(vetor)\n",
    "\n",
    "vetor.remover(2)\n",
    "print(vetor)\n",
    "vetor.remover(0)\n",
    "print(vetor)"
   ],
   "outputs": [
    {
     "name": "stdout",
     "output_type": "stream",
     "text": [
      "Lista([1, 3, 5, 7])\n",
      "Lista([1, 3, 7])\n",
      "Lista([3, 7])\n"
     ]
    }
   ],
   "execution_count": 4
  },
  {
   "metadata": {
    "jupyter": {
     "is_executing": true
    }
   },
   "cell_type": "code",
   "source": [
    "lista_ligada = ListaLigada()\n",
    "lista_ligada.adicionar(1)\n",
    "lista_ligada.adicionar(3)\n",
    "lista_ligada.adicionar(5)\n",
    "lista_ligada.adicionar(7)\n",
    "\n",
    "print(lista_ligada)\n",
    "\n",
    "lista_ligada.remover(2)\n",
    "lista_ligada.remover(0)"
   ],
   "id": "86b43c3fac3953ed",
   "outputs": [],
   "execution_count": null
  },
  {
   "metadata": {},
   "cell_type": "code",
   "outputs": [],
   "execution_count": null,
   "source": "",
   "id": "8026429461c456fa"
  }
 ],
 "metadata": {
  "kernelspec": {
   "display_name": "Python 3",
   "language": "python",
   "name": "python3"
  },
  "language_info": {
   "codemirror_mode": {
    "name": "ipython",
    "version": 2
   },
   "file_extension": ".py",
   "mimetype": "text/x-python",
   "name": "python",
   "nbconvert_exporter": "python",
   "pygments_lexer": "ipython2",
   "version": "2.7.6"
  }
 },
 "nbformat": 4,
 "nbformat_minor": 5
}
